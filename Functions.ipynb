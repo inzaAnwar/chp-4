{
 "cells": [
  {
   "cell_type": "code",
   "execution_count": 1,
   "id": "d01f323d",
   "metadata": {},
   "outputs": [
    {
     "name": "stdout",
     "output_type": "stream",
     "text": [
      "hello\n",
      "inza\n",
      "welcome\n",
      "hello\n",
      "inza\n"
     ]
    }
   ],
   "source": [
    "def thing():\n",
    "    print(\"hello\")\n",
    "    print(\"inza\")\n",
    "thing()\n",
    "print(\"welcome\")\n",
    "thing()"
   ]
  },
  {
   "cell_type": "code",
   "execution_count": 3,
   "id": "6a5f444a",
   "metadata": {},
   "outputs": [
    {
     "name": "stdout",
     "output_type": "stream",
     "text": [
      "z\n",
      " \n"
     ]
    }
   ],
   "source": [
    "big = max(\"hello inza\")\n",
    "print(big)\n",
    "tiny=min(\"hello inza\")\n",
    "print(tiny)"
   ]
  },
  {
   "cell_type": "code",
   "execution_count": 9,
   "id": "3c2685f7",
   "metadata": {},
   "outputs": [
    {
     "data": {
      "text/plain": [
       "float"
      ]
     },
     "execution_count": 9,
     "metadata": {},
     "output_type": "execute_result"
    }
   ],
   "source": [
    "#Conversions\n",
    "a=45\n",
    "type(a)\n",
    "b=float(a)\n",
    "type(b)\n"
   ]
  },
  {
   "cell_type": "raw",
   "id": "5f8b6b85",
   "metadata": {},
   "source": []
  },
  {
   "cell_type": "code",
   "execution_count": 13,
   "id": "2b25b016",
   "metadata": {},
   "outputs": [
    {
     "name": "stdout",
     "output_type": "stream",
     "text": [
      "<class 'str'>\n",
      "<class 'int'>\n",
      "127\n"
     ]
    }
   ],
   "source": [
    "#string conversion\n",
    "a=\"123\"\n",
    "print(type(a))\n",
    "b=int(a)\n",
    "print(type(b))\n",
    "print(b+4)"
   ]
  },
  {
   "cell_type": "code",
   "execution_count": 17,
   "id": "39fdf73d",
   "metadata": {},
   "outputs": [
    {
     "name": "stdout",
     "output_type": "stream",
     "text": [
      "BTS\n",
      "7\n"
     ]
    }
   ],
   "source": [
    "# only define the function not execute\n",
    "x=5\n",
    "def print_lyrics():\n",
    "    print(\"smooth like Butter\")\n",
    "    print(\"dynamite\")\n",
    "    print(\"not today\")\n",
    "print(\"BTS\")\n",
    "x=x+2\n",
    "print(x)"
   ]
  },
  {
   "cell_type": "code",
   "execution_count": 18,
   "id": "c445f75f",
   "metadata": {},
   "outputs": [
    {
     "name": "stdout",
     "output_type": "stream",
     "text": [
      "smooth like Butter\n",
      "dynamite\n",
      "not today\n",
      "BTS\n",
      "we were only  7\n"
     ]
    }
   ],
   "source": [
    "#  define the function  execute\n",
    "x=5\n",
    "def print_lyrics():\n",
    "    print(\"smooth like Butter\")\n",
    "    print(\"dynamite\")\n",
    "    print(\"not today\")\n",
    "print_lyrics()\n",
    "print(\"BTS\")\n",
    "x=x+2\n",
    "print(\"we were only \",x)\n"
   ]
  },
  {
   "cell_type": "code",
   "execution_count": 26,
   "id": "4f3712fe",
   "metadata": {},
   "outputs": [
    {
     "name": "stdout",
     "output_type": "stream",
     "text": [
      "Hola\n",
      "anyong\n"
     ]
    }
   ],
   "source": [
    " def greet(lang):\n",
    "        if lang == 'es':\n",
    "            print('Hola')\n",
    "        elif lang == 'fr':\n",
    "            print('Bonjour')\n",
    "        elif lang=='korean':\n",
    "            print(\"anyong\")\n",
    "        else:\n",
    "            print('Hello')\n",
    "greet('es')\n",
    "greet('korean')"
   ]
  },
  {
   "cell_type": "code",
   "execution_count": 28,
   "id": "157ee5d1",
   "metadata": {},
   "outputs": [
    {
     "name": "stdout",
     "output_type": "stream",
     "text": [
      "hello inza\n",
      "hello BTS\n"
     ]
    }
   ],
   "source": [
    "def greeting():\n",
    "    return \"hello\"\n",
    "print(greeting(),\"inza\")\n",
    "print(greeting(),\"BTS\")"
   ]
  },
  {
   "cell_type": "raw",
   "id": "43fe57ab",
   "metadata": {},
   "source": []
  },
  {
   "cell_type": "code",
   "execution_count": 32,
   "id": "dc9a4366",
   "metadata": {},
   "outputs": [
    {
     "name": "stdout",
     "output_type": "stream",
     "text": [
      "hello inza\n",
      "anyyong inza\n"
     ]
    }
   ],
   "source": [
    "def greeting(lang):\n",
    "    if lang ==\"Urdu\":\n",
    "        return \"Assalam-0-Alikum\"\n",
    "    elif lang==\"korean\":\n",
    "        return \"anyyong\"\n",
    "    else:\n",
    "        return \"hello\"\n",
    "print(greeting(\"es\"),\"inza\")\n",
    "print(greeting(\"korean\"),'inza')"
   ]
  },
  {
   "cell_type": "code",
   "execution_count": 33,
   "id": "76e1c5fe",
   "metadata": {},
   "outputs": [
    {
     "name": "stdout",
     "output_type": "stream",
     "text": [
      "13\n"
     ]
    }
   ],
   "source": [
    "def sum(a,b,c):\n",
    "    add=a+b+c\n",
    "    return add\n",
    "x=sum(10,1,2)\n",
    "print(x)"
   ]
  },
  {
   "cell_type": "code",
   "execution_count": 46,
   "id": "1251e6c6",
   "metadata": {},
   "outputs": [
    {
     "name": "stdout",
     "output_type": "stream",
     "text": [
      "47500.0\n"
     ]
    }
   ],
   "source": [
    "#rewrite your pay computation with time-and-a half for overtime and create a function called \n",
    "#computepay which takes two parameters ( hours \n",
    "#and rate).\n",
    "def computepay(hours, rate):\n",
    "    if hours > 40:\n",
    "        reg = rate * hours\n",
    "        otp = (hours - 40.0) * (rate * 0.5)\n",
    "        pay = reg + otp\n",
    "    else:\n",
    "        pay = hours * rate \n",
    "    return pay\n",
    "x=computepay(45,1000)\n",
    "print(x)"
   ]
  }
 ],
 "metadata": {
  "kernelspec": {
   "display_name": "Python 3 (ipykernel)",
   "language": "python",
   "name": "python3"
  },
  "language_info": {
   "codemirror_mode": {
    "name": "ipython",
    "version": 3
   },
   "file_extension": ".py",
   "mimetype": "text/x-python",
   "name": "python",
   "nbconvert_exporter": "python",
   "pygments_lexer": "ipython3",
   "version": "3.10.9"
  }
 },
 "nbformat": 4,
 "nbformat_minor": 5
}
